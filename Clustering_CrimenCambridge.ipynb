{
 "cells": [
  {
   "attachments": {},
   "cell_type": "markdown",
   "id": "ee95957e",
   "metadata": {},
   "source": [
    "*PRESENTADO POR: GINA MARITZA MARTINEZ LOPEZ*\n",
    "\n",
    "Proyecto clustering"
   ]
  },
  {
   "cell_type": "code",
   "execution_count": 137,
   "id": "c862a989",
   "metadata": {},
   "outputs": [],
   "source": [
    "import pandas as pd \n",
    "import numpy as np \n",
    "import matplotlib.pyplot as plt \n",
    "from sklearn.model_selection import train_test_split \n",
    "from sklearn import preprocessing \n",
    "from sklearn.decomposition import PCA \n",
    "from sklearn.cluster import DBSCAN\n",
    "from sklearn.cluster import KMeans\n",
    "from sklearn.cluster import SpectralClustering"
   ]
  },
  {
   "cell_type": "code",
   "execution_count": 138,
   "id": "5413ffd1",
   "metadata": {},
   "outputs": [],
   "source": [
    "df=pd.read_csv('CrimenCambridge.csv')"
   ]
  },
  {
   "cell_type": "code",
   "execution_count": 139,
   "id": "4a93942e",
   "metadata": {},
   "outputs": [
    {
     "data": {
      "text/html": [
       "<div>\n",
       "<style scoped>\n",
       "    .dataframe tbody tr th:only-of-type {\n",
       "        vertical-align: middle;\n",
       "    }\n",
       "\n",
       "    .dataframe tbody tr th {\n",
       "        vertical-align: top;\n",
       "    }\n",
       "\n",
       "    .dataframe thead th {\n",
       "        text-align: right;\n",
       "    }\n",
       "</style>\n",
       "<table border=\"1\" class=\"dataframe\">\n",
       "  <thead>\n",
       "    <tr style=\"text-align: right;\">\n",
       "      <th></th>\n",
       "      <th>File Number</th>\n",
       "      <th>Date of Report</th>\n",
       "      <th>Crime Date Time</th>\n",
       "      <th>Crime</th>\n",
       "      <th>Reporting Area</th>\n",
       "      <th>Neighborhood</th>\n",
       "      <th>Location</th>\n",
       "    </tr>\n",
       "  </thead>\n",
       "  <tbody>\n",
       "    <tr>\n",
       "      <th>0</th>\n",
       "      <td>2009-00002</td>\n",
       "      <td>01/01/2009 12:39:00 AM</td>\n",
       "      <td>1/1/09 0:39</td>\n",
       "      <td>Simple Assault</td>\n",
       "      <td>504.0</td>\n",
       "      <td>Cambridgeport</td>\n",
       "      <td>400 Massachusetts Avenue, Cambridge, MA</td>\n",
       "    </tr>\n",
       "    <tr>\n",
       "      <th>1</th>\n",
       "      <td>2009-00003</td>\n",
       "      <td>01/01/2009 01:34:00 AM</td>\n",
       "      <td>1/1/09 1:34</td>\n",
       "      <td>Simple Assault</td>\n",
       "      <td>610.0</td>\n",
       "      <td>Mid-Cambridge</td>\n",
       "      <td>200 HAMPSHIRE STREET, Cambridge, MA</td>\n",
       "    </tr>\n",
       "    <tr>\n",
       "      <th>2</th>\n",
       "      <td>2009-00004</td>\n",
       "      <td>01/01/2009 01:43:00 AM</td>\n",
       "      <td>01/01/2009 02:20 - 02:35</td>\n",
       "      <td>Aggravated Assault</td>\n",
       "      <td>708.0</td>\n",
       "      <td>Riverside</td>\n",
       "      <td>DUNSTER STREET &amp; MOUNT AUBURN STREET, Cambridg...</td>\n",
       "    </tr>\n",
       "    <tr>\n",
       "      <th>3</th>\n",
       "      <td>2009-00005</td>\n",
       "      <td>01/01/2009 02:27:00 AM</td>\n",
       "      <td>01/01/2009 02:20 - 02:45</td>\n",
       "      <td>Simple Assault</td>\n",
       "      <td>105.0</td>\n",
       "      <td>East Cambridge</td>\n",
       "      <td>100 SCIARAPPA STREET, Cambridge, MA</td>\n",
       "    </tr>\n",
       "    <tr>\n",
       "      <th>4</th>\n",
       "      <td>2009-00006</td>\n",
       "      <td>01/01/2009 02:34:00 AM</td>\n",
       "      <td>01/01/2009 02:15 - 02:35</td>\n",
       "      <td>Disorderly</td>\n",
       "      <td>708.0</td>\n",
       "      <td>Riverside</td>\n",
       "      <td>1200 Massachusetts Avenue, Cambridge, MA</td>\n",
       "    </tr>\n",
       "  </tbody>\n",
       "</table>\n",
       "</div>"
      ],
      "text/plain": [
       "  File Number          Date of Report           Crime Date Time  \\\n",
       "0  2009-00002  01/01/2009 12:39:00 AM               1/1/09 0:39   \n",
       "1  2009-00003  01/01/2009 01:34:00 AM               1/1/09 1:34   \n",
       "2  2009-00004  01/01/2009 01:43:00 AM  01/01/2009 02:20 - 02:35   \n",
       "3  2009-00005  01/01/2009 02:27:00 AM  01/01/2009 02:20 - 02:45   \n",
       "4  2009-00006  01/01/2009 02:34:00 AM  01/01/2009 02:15 - 02:35   \n",
       "\n",
       "                Crime  Reporting Area    Neighborhood  \\\n",
       "0      Simple Assault           504.0   Cambridgeport   \n",
       "1      Simple Assault           610.0   Mid-Cambridge   \n",
       "2  Aggravated Assault           708.0       Riverside   \n",
       "3      Simple Assault           105.0  East Cambridge   \n",
       "4          Disorderly           708.0       Riverside   \n",
       "\n",
       "                                            Location  \n",
       "0            400 Massachusetts Avenue, Cambridge, MA  \n",
       "1                200 HAMPSHIRE STREET, Cambridge, MA  \n",
       "2  DUNSTER STREET & MOUNT AUBURN STREET, Cambridg...  \n",
       "3                100 SCIARAPPA STREET, Cambridge, MA  \n",
       "4           1200 Massachusetts Avenue, Cambridge, MA  "
      ]
     },
     "execution_count": 139,
     "metadata": {},
     "output_type": "execute_result"
    }
   ],
   "source": [
    "df.head()"
   ]
  },
  {
   "cell_type": "code",
   "execution_count": 140,
   "id": "1ce293ea",
   "metadata": {
    "scrolled": true
   },
   "outputs": [
    {
     "data": {
      "text/html": [
       "<div>\n",
       "<style scoped>\n",
       "    .dataframe tbody tr th:only-of-type {\n",
       "        vertical-align: middle;\n",
       "    }\n",
       "\n",
       "    .dataframe tbody tr th {\n",
       "        vertical-align: top;\n",
       "    }\n",
       "\n",
       "    .dataframe thead th {\n",
       "        text-align: right;\n",
       "    }\n",
       "</style>\n",
       "<table border=\"1\" class=\"dataframe\">\n",
       "  <thead>\n",
       "    <tr style=\"text-align: right;\">\n",
       "      <th></th>\n",
       "      <th>File Number</th>\n",
       "      <th>Date of Report</th>\n",
       "      <th>Crime Date Time</th>\n",
       "      <th>Crime</th>\n",
       "      <th>Reporting Area</th>\n",
       "      <th>Neighborhood</th>\n",
       "      <th>Location</th>\n",
       "    </tr>\n",
       "  </thead>\n",
       "  <tbody>\n",
       "    <tr>\n",
       "      <th>11911</th>\n",
       "      <td>2010-05903</td>\n",
       "      <td>08/05/2010 10:04:00 PM</td>\n",
       "      <td>08/05/2010 20:30 - 22:00</td>\n",
       "      <td>Larceny from MV</td>\n",
       "      <td>108.0</td>\n",
       "      <td>East Cambridge</td>\n",
       "      <td>BENT STREET &amp; SECOND STREET, Cambridge, MA</td>\n",
       "    </tr>\n",
       "    <tr>\n",
       "      <th>16481</th>\n",
       "      <td>2011-01954</td>\n",
       "      <td>03/19/2011 04:01:00 PM</td>\n",
       "      <td>03/19/2011 14:10 - 16:00</td>\n",
       "      <td>Larceny from MV</td>\n",
       "      <td>708.0</td>\n",
       "      <td>Riverside</td>\n",
       "      <td>0 JFK STREET, Cambridge, MA</td>\n",
       "    </tr>\n",
       "    <tr>\n",
       "      <th>33946</th>\n",
       "      <td>2013-06282</td>\n",
       "      <td>08/15/2013 07:37:00 PM</td>\n",
       "      <td>8/15/13 19:36</td>\n",
       "      <td>Arson</td>\n",
       "      <td>408.0</td>\n",
       "      <td>Area 4</td>\n",
       "      <td>300 MASSACHUSETTS Avenue, Cambridge, MA</td>\n",
       "    </tr>\n",
       "    <tr>\n",
       "      <th>828</th>\n",
       "      <td>2009-01118</td>\n",
       "      <td>02/13/2009 03:14:00 PM</td>\n",
       "      <td>02/13/2009 08:00 - 14:45</td>\n",
       "      <td>Auto Theft</td>\n",
       "      <td>103.0</td>\n",
       "      <td>East Cambridge</td>\n",
       "      <td>300 THIRD STREET, Cambridge, MA</td>\n",
       "    </tr>\n",
       "    <tr>\n",
       "      <th>31134</th>\n",
       "      <td>2013-02187</td>\n",
       "      <td>03/30/2013 05:46:00 PM</td>\n",
       "      <td>3/30/13 17:46</td>\n",
       "      <td>Simple Assault</td>\n",
       "      <td>706.0</td>\n",
       "      <td>Riverside</td>\n",
       "      <td>0 Putnam Gdns, Cambridge, MA</td>\n",
       "    </tr>\n",
       "    <tr>\n",
       "      <th>...</th>\n",
       "      <td>...</td>\n",
       "      <td>...</td>\n",
       "      <td>...</td>\n",
       "      <td>...</td>\n",
       "      <td>...</td>\n",
       "      <td>...</td>\n",
       "      <td>...</td>\n",
       "    </tr>\n",
       "    <tr>\n",
       "      <th>41272</th>\n",
       "      <td>2014-06377</td>\n",
       "      <td>08/28/2014 06:45:00 PM</td>\n",
       "      <td>08/28/2014 18:40 - 19:00</td>\n",
       "      <td>Larceny from Person</td>\n",
       "      <td>102.0</td>\n",
       "      <td>East Cambridge</td>\n",
       "      <td>100 CAMBRIDGESIDE PL, Cambridge, MA</td>\n",
       "    </tr>\n",
       "    <tr>\n",
       "      <th>52602</th>\n",
       "      <td>2016-02359</td>\n",
       "      <td>04/10/2016 04:23:00 PM</td>\n",
       "      <td>04/10/2016 01:00 - 09:00</td>\n",
       "      <td>Housebreak</td>\n",
       "      <td>1009.0</td>\n",
       "      <td>West Cambridge</td>\n",
       "      <td>100 FAYERWEATHER ST, Cambridge, MA</td>\n",
       "    </tr>\n",
       "    <tr>\n",
       "      <th>48750</th>\n",
       "      <td>2015-06685</td>\n",
       "      <td>09/04/2015 07:44:00 AM</td>\n",
       "      <td>09/03/2015 21:00 - 09/04/2015 07:43</td>\n",
       "      <td>Larceny from MV</td>\n",
       "      <td>604.0</td>\n",
       "      <td>Mid-Cambridge</td>\n",
       "      <td>300 BROADWAY, Cambridge, MA</td>\n",
       "    </tr>\n",
       "    <tr>\n",
       "      <th>41027</th>\n",
       "      <td>2014-06062</td>\n",
       "      <td>08/19/2014 09:15:00 AM</td>\n",
       "      <td>08/18/2014 18:00 - 08/19/2014 06:30</td>\n",
       "      <td>Larceny from MV</td>\n",
       "      <td>1010.0</td>\n",
       "      <td>West Cambridge</td>\n",
       "      <td>200 BRATTLE ST, Cambridge, MA</td>\n",
       "    </tr>\n",
       "    <tr>\n",
       "      <th>52524</th>\n",
       "      <td>2016-02250</td>\n",
       "      <td>04/06/2016 09:18:00 AM</td>\n",
       "      <td>04/05/2016 19:00 - 04/06/2016 08:00</td>\n",
       "      <td>Housebreak</td>\n",
       "      <td>804.0</td>\n",
       "      <td>Agassiz</td>\n",
       "      <td>0 FOREST ST, Cambridge, MA</td>\n",
       "    </tr>\n",
       "  </tbody>\n",
       "</table>\n",
       "<p>5000 rows × 7 columns</p>\n",
       "</div>"
      ],
      "text/plain": [
       "      File Number          Date of Report  \\\n",
       "11911  2010-05903  08/05/2010 10:04:00 PM   \n",
       "16481  2011-01954  03/19/2011 04:01:00 PM   \n",
       "33946  2013-06282  08/15/2013 07:37:00 PM   \n",
       "828    2009-01118  02/13/2009 03:14:00 PM   \n",
       "31134  2013-02187  03/30/2013 05:46:00 PM   \n",
       "...           ...                     ...   \n",
       "41272  2014-06377  08/28/2014 06:45:00 PM   \n",
       "52602  2016-02359  04/10/2016 04:23:00 PM   \n",
       "48750  2015-06685  09/04/2015 07:44:00 AM   \n",
       "41027  2014-06062  08/19/2014 09:15:00 AM   \n",
       "52524  2016-02250  04/06/2016 09:18:00 AM   \n",
       "\n",
       "                           Crime Date Time                Crime  \\\n",
       "11911             08/05/2010 20:30 - 22:00      Larceny from MV   \n",
       "16481             03/19/2011 14:10 - 16:00      Larceny from MV   \n",
       "33946                        8/15/13 19:36                Arson   \n",
       "828               02/13/2009 08:00 - 14:45           Auto Theft   \n",
       "31134                        3/30/13 17:46       Simple Assault   \n",
       "...                                    ...                  ...   \n",
       "41272             08/28/2014 18:40 - 19:00  Larceny from Person   \n",
       "52602             04/10/2016 01:00 - 09:00           Housebreak   \n",
       "48750  09/03/2015 21:00 - 09/04/2015 07:43      Larceny from MV   \n",
       "41027  08/18/2014 18:00 - 08/19/2014 06:30      Larceny from MV   \n",
       "52524  04/05/2016 19:00 - 04/06/2016 08:00           Housebreak   \n",
       "\n",
       "       Reporting Area    Neighborhood  \\\n",
       "11911           108.0  East Cambridge   \n",
       "16481           708.0       Riverside   \n",
       "33946           408.0          Area 4   \n",
       "828             103.0  East Cambridge   \n",
       "31134           706.0       Riverside   \n",
       "...               ...             ...   \n",
       "41272           102.0  East Cambridge   \n",
       "52602          1009.0  West Cambridge   \n",
       "48750           604.0   Mid-Cambridge   \n",
       "41027          1010.0  West Cambridge   \n",
       "52524           804.0         Agassiz   \n",
       "\n",
       "                                         Location  \n",
       "11911  BENT STREET & SECOND STREET, Cambridge, MA  \n",
       "16481                 0 JFK STREET, Cambridge, MA  \n",
       "33946     300 MASSACHUSETTS Avenue, Cambridge, MA  \n",
       "828               300 THIRD STREET, Cambridge, MA  \n",
       "31134                0 Putnam Gdns, Cambridge, MA  \n",
       "...                                           ...  \n",
       "41272         100 CAMBRIDGESIDE PL, Cambridge, MA  \n",
       "52602          100 FAYERWEATHER ST, Cambridge, MA  \n",
       "48750                 300 BROADWAY, Cambridge, MA  \n",
       "41027               200 BRATTLE ST, Cambridge, MA  \n",
       "52524                  0 FOREST ST, Cambridge, MA  \n",
       "\n",
       "[5000 rows x 7 columns]"
      ]
     },
     "execution_count": 140,
     "metadata": {},
     "output_type": "execute_result"
    }
   ],
   "source": [
    "df= df.sample(n=5000, random_state = 42)\n",
    "df"
   ]
  },
  {
   "cell_type": "code",
   "execution_count": 141,
   "id": "671c4282",
   "metadata": {},
   "outputs": [],
   "source": [
    "X=df"
   ]
  },
  {
   "cell_type": "code",
   "execution_count": 142,
   "id": "bfbbde9a",
   "metadata": {},
   "outputs": [],
   "source": [
    "#Removemos las columnas irrelevantes\n",
    "X=X.drop(['File Number','Date of Report', 'Crime Date Time', 'Location'],axis=1)"
   ]
  },
  {
   "cell_type": "code",
   "execution_count": 143,
   "id": "ff1f753d",
   "metadata": {},
   "outputs": [
    {
     "data": {
      "text/html": [
       "<div>\n",
       "<style scoped>\n",
       "    .dataframe tbody tr th:only-of-type {\n",
       "        vertical-align: middle;\n",
       "    }\n",
       "\n",
       "    .dataframe tbody tr th {\n",
       "        vertical-align: top;\n",
       "    }\n",
       "\n",
       "    .dataframe thead th {\n",
       "        text-align: right;\n",
       "    }\n",
       "</style>\n",
       "<table border=\"1\" class=\"dataframe\">\n",
       "  <thead>\n",
       "    <tr style=\"text-align: right;\">\n",
       "      <th></th>\n",
       "      <th>Reporting Area</th>\n",
       "      <th>Crime_Admin Error</th>\n",
       "      <th>Crime_Aggravated Assault</th>\n",
       "      <th>Crime_Annoying &amp; Accosting</th>\n",
       "      <th>Crime_Arson</th>\n",
       "      <th>Crime_Auto Theft</th>\n",
       "      <th>Crime_Commercial Break</th>\n",
       "      <th>Crime_Commercial Robbery</th>\n",
       "      <th>Crime_Counterfeiting</th>\n",
       "      <th>Crime_Disorderly</th>\n",
       "      <th>...</th>\n",
       "      <th>Neighborhood_East Cambridge</th>\n",
       "      <th>Neighborhood_Highlands</th>\n",
       "      <th>Neighborhood_Inman/Harrington</th>\n",
       "      <th>Neighborhood_MIT</th>\n",
       "      <th>Neighborhood_Mid-Cambridge</th>\n",
       "      <th>Neighborhood_North Cambridge</th>\n",
       "      <th>Neighborhood_Peabody</th>\n",
       "      <th>Neighborhood_Riverside</th>\n",
       "      <th>Neighborhood_Strawberry Hill</th>\n",
       "      <th>Neighborhood_West Cambridge</th>\n",
       "    </tr>\n",
       "  </thead>\n",
       "  <tbody>\n",
       "    <tr>\n",
       "      <th>11911</th>\n",
       "      <td>108.0</td>\n",
       "      <td>0</td>\n",
       "      <td>0</td>\n",
       "      <td>0</td>\n",
       "      <td>0</td>\n",
       "      <td>0</td>\n",
       "      <td>0</td>\n",
       "      <td>0</td>\n",
       "      <td>0</td>\n",
       "      <td>0</td>\n",
       "      <td>...</td>\n",
       "      <td>1</td>\n",
       "      <td>0</td>\n",
       "      <td>0</td>\n",
       "      <td>0</td>\n",
       "      <td>0</td>\n",
       "      <td>0</td>\n",
       "      <td>0</td>\n",
       "      <td>0</td>\n",
       "      <td>0</td>\n",
       "      <td>0</td>\n",
       "    </tr>\n",
       "    <tr>\n",
       "      <th>16481</th>\n",
       "      <td>708.0</td>\n",
       "      <td>0</td>\n",
       "      <td>0</td>\n",
       "      <td>0</td>\n",
       "      <td>0</td>\n",
       "      <td>0</td>\n",
       "      <td>0</td>\n",
       "      <td>0</td>\n",
       "      <td>0</td>\n",
       "      <td>0</td>\n",
       "      <td>...</td>\n",
       "      <td>0</td>\n",
       "      <td>0</td>\n",
       "      <td>0</td>\n",
       "      <td>0</td>\n",
       "      <td>0</td>\n",
       "      <td>0</td>\n",
       "      <td>0</td>\n",
       "      <td>1</td>\n",
       "      <td>0</td>\n",
       "      <td>0</td>\n",
       "    </tr>\n",
       "    <tr>\n",
       "      <th>33946</th>\n",
       "      <td>408.0</td>\n",
       "      <td>0</td>\n",
       "      <td>0</td>\n",
       "      <td>0</td>\n",
       "      <td>1</td>\n",
       "      <td>0</td>\n",
       "      <td>0</td>\n",
       "      <td>0</td>\n",
       "      <td>0</td>\n",
       "      <td>0</td>\n",
       "      <td>...</td>\n",
       "      <td>0</td>\n",
       "      <td>0</td>\n",
       "      <td>0</td>\n",
       "      <td>0</td>\n",
       "      <td>0</td>\n",
       "      <td>0</td>\n",
       "      <td>0</td>\n",
       "      <td>0</td>\n",
       "      <td>0</td>\n",
       "      <td>0</td>\n",
       "    </tr>\n",
       "    <tr>\n",
       "      <th>828</th>\n",
       "      <td>103.0</td>\n",
       "      <td>0</td>\n",
       "      <td>0</td>\n",
       "      <td>0</td>\n",
       "      <td>0</td>\n",
       "      <td>1</td>\n",
       "      <td>0</td>\n",
       "      <td>0</td>\n",
       "      <td>0</td>\n",
       "      <td>0</td>\n",
       "      <td>...</td>\n",
       "      <td>1</td>\n",
       "      <td>0</td>\n",
       "      <td>0</td>\n",
       "      <td>0</td>\n",
       "      <td>0</td>\n",
       "      <td>0</td>\n",
       "      <td>0</td>\n",
       "      <td>0</td>\n",
       "      <td>0</td>\n",
       "      <td>0</td>\n",
       "    </tr>\n",
       "    <tr>\n",
       "      <th>31134</th>\n",
       "      <td>706.0</td>\n",
       "      <td>0</td>\n",
       "      <td>0</td>\n",
       "      <td>0</td>\n",
       "      <td>0</td>\n",
       "      <td>0</td>\n",
       "      <td>0</td>\n",
       "      <td>0</td>\n",
       "      <td>0</td>\n",
       "      <td>0</td>\n",
       "      <td>...</td>\n",
       "      <td>0</td>\n",
       "      <td>0</td>\n",
       "      <td>0</td>\n",
       "      <td>0</td>\n",
       "      <td>0</td>\n",
       "      <td>0</td>\n",
       "      <td>0</td>\n",
       "      <td>1</td>\n",
       "      <td>0</td>\n",
       "      <td>0</td>\n",
       "    </tr>\n",
       "    <tr>\n",
       "      <th>...</th>\n",
       "      <td>...</td>\n",
       "      <td>...</td>\n",
       "      <td>...</td>\n",
       "      <td>...</td>\n",
       "      <td>...</td>\n",
       "      <td>...</td>\n",
       "      <td>...</td>\n",
       "      <td>...</td>\n",
       "      <td>...</td>\n",
       "      <td>...</td>\n",
       "      <td>...</td>\n",
       "      <td>...</td>\n",
       "      <td>...</td>\n",
       "      <td>...</td>\n",
       "      <td>...</td>\n",
       "      <td>...</td>\n",
       "      <td>...</td>\n",
       "      <td>...</td>\n",
       "      <td>...</td>\n",
       "      <td>...</td>\n",
       "      <td>...</td>\n",
       "    </tr>\n",
       "    <tr>\n",
       "      <th>41272</th>\n",
       "      <td>102.0</td>\n",
       "      <td>0</td>\n",
       "      <td>0</td>\n",
       "      <td>0</td>\n",
       "      <td>0</td>\n",
       "      <td>0</td>\n",
       "      <td>0</td>\n",
       "      <td>0</td>\n",
       "      <td>0</td>\n",
       "      <td>0</td>\n",
       "      <td>...</td>\n",
       "      <td>1</td>\n",
       "      <td>0</td>\n",
       "      <td>0</td>\n",
       "      <td>0</td>\n",
       "      <td>0</td>\n",
       "      <td>0</td>\n",
       "      <td>0</td>\n",
       "      <td>0</td>\n",
       "      <td>0</td>\n",
       "      <td>0</td>\n",
       "    </tr>\n",
       "    <tr>\n",
       "      <th>52602</th>\n",
       "      <td>1009.0</td>\n",
       "      <td>0</td>\n",
       "      <td>0</td>\n",
       "      <td>0</td>\n",
       "      <td>0</td>\n",
       "      <td>0</td>\n",
       "      <td>0</td>\n",
       "      <td>0</td>\n",
       "      <td>0</td>\n",
       "      <td>0</td>\n",
       "      <td>...</td>\n",
       "      <td>0</td>\n",
       "      <td>0</td>\n",
       "      <td>0</td>\n",
       "      <td>0</td>\n",
       "      <td>0</td>\n",
       "      <td>0</td>\n",
       "      <td>0</td>\n",
       "      <td>0</td>\n",
       "      <td>0</td>\n",
       "      <td>1</td>\n",
       "    </tr>\n",
       "    <tr>\n",
       "      <th>48750</th>\n",
       "      <td>604.0</td>\n",
       "      <td>0</td>\n",
       "      <td>0</td>\n",
       "      <td>0</td>\n",
       "      <td>0</td>\n",
       "      <td>0</td>\n",
       "      <td>0</td>\n",
       "      <td>0</td>\n",
       "      <td>0</td>\n",
       "      <td>0</td>\n",
       "      <td>...</td>\n",
       "      <td>0</td>\n",
       "      <td>0</td>\n",
       "      <td>0</td>\n",
       "      <td>0</td>\n",
       "      <td>1</td>\n",
       "      <td>0</td>\n",
       "      <td>0</td>\n",
       "      <td>0</td>\n",
       "      <td>0</td>\n",
       "      <td>0</td>\n",
       "    </tr>\n",
       "    <tr>\n",
       "      <th>41027</th>\n",
       "      <td>1010.0</td>\n",
       "      <td>0</td>\n",
       "      <td>0</td>\n",
       "      <td>0</td>\n",
       "      <td>0</td>\n",
       "      <td>0</td>\n",
       "      <td>0</td>\n",
       "      <td>0</td>\n",
       "      <td>0</td>\n",
       "      <td>0</td>\n",
       "      <td>...</td>\n",
       "      <td>0</td>\n",
       "      <td>0</td>\n",
       "      <td>0</td>\n",
       "      <td>0</td>\n",
       "      <td>0</td>\n",
       "      <td>0</td>\n",
       "      <td>0</td>\n",
       "      <td>0</td>\n",
       "      <td>0</td>\n",
       "      <td>1</td>\n",
       "    </tr>\n",
       "    <tr>\n",
       "      <th>52524</th>\n",
       "      <td>804.0</td>\n",
       "      <td>0</td>\n",
       "      <td>0</td>\n",
       "      <td>0</td>\n",
       "      <td>0</td>\n",
       "      <td>0</td>\n",
       "      <td>0</td>\n",
       "      <td>0</td>\n",
       "      <td>0</td>\n",
       "      <td>0</td>\n",
       "      <td>...</td>\n",
       "      <td>0</td>\n",
       "      <td>0</td>\n",
       "      <td>0</td>\n",
       "      <td>0</td>\n",
       "      <td>0</td>\n",
       "      <td>0</td>\n",
       "      <td>0</td>\n",
       "      <td>0</td>\n",
       "      <td>0</td>\n",
       "      <td>0</td>\n",
       "    </tr>\n",
       "  </tbody>\n",
       "</table>\n",
       "<p>5000 rows × 64 columns</p>\n",
       "</div>"
      ],
      "text/plain": [
       "       Reporting Area  Crime_Admin Error  Crime_Aggravated Assault  \\\n",
       "11911           108.0                  0                         0   \n",
       "16481           708.0                  0                         0   \n",
       "33946           408.0                  0                         0   \n",
       "828             103.0                  0                         0   \n",
       "31134           706.0                  0                         0   \n",
       "...               ...                ...                       ...   \n",
       "41272           102.0                  0                         0   \n",
       "52602          1009.0                  0                         0   \n",
       "48750           604.0                  0                         0   \n",
       "41027          1010.0                  0                         0   \n",
       "52524           804.0                  0                         0   \n",
       "\n",
       "       Crime_Annoying & Accosting  Crime_Arson  Crime_Auto Theft  \\\n",
       "11911                           0            0                 0   \n",
       "16481                           0            0                 0   \n",
       "33946                           0            1                 0   \n",
       "828                             0            0                 1   \n",
       "31134                           0            0                 0   \n",
       "...                           ...          ...               ...   \n",
       "41272                           0            0                 0   \n",
       "52602                           0            0                 0   \n",
       "48750                           0            0                 0   \n",
       "41027                           0            0                 0   \n",
       "52524                           0            0                 0   \n",
       "\n",
       "       Crime_Commercial Break  Crime_Commercial Robbery  Crime_Counterfeiting  \\\n",
       "11911                       0                         0                     0   \n",
       "16481                       0                         0                     0   \n",
       "33946                       0                         0                     0   \n",
       "828                         0                         0                     0   \n",
       "31134                       0                         0                     0   \n",
       "...                       ...                       ...                   ...   \n",
       "41272                       0                         0                     0   \n",
       "52602                       0                         0                     0   \n",
       "48750                       0                         0                     0   \n",
       "41027                       0                         0                     0   \n",
       "52524                       0                         0                     0   \n",
       "\n",
       "       Crime_Disorderly  ...  Neighborhood_East Cambridge  \\\n",
       "11911                 0  ...                            1   \n",
       "16481                 0  ...                            0   \n",
       "33946                 0  ...                            0   \n",
       "828                   0  ...                            1   \n",
       "31134                 0  ...                            0   \n",
       "...                 ...  ...                          ...   \n",
       "41272                 0  ...                            1   \n",
       "52602                 0  ...                            0   \n",
       "48750                 0  ...                            0   \n",
       "41027                 0  ...                            0   \n",
       "52524                 0  ...                            0   \n",
       "\n",
       "       Neighborhood_Highlands  Neighborhood_Inman/Harrington  \\\n",
       "11911                       0                              0   \n",
       "16481                       0                              0   \n",
       "33946                       0                              0   \n",
       "828                         0                              0   \n",
       "31134                       0                              0   \n",
       "...                       ...                            ...   \n",
       "41272                       0                              0   \n",
       "52602                       0                              0   \n",
       "48750                       0                              0   \n",
       "41027                       0                              0   \n",
       "52524                       0                              0   \n",
       "\n",
       "       Neighborhood_MIT  Neighborhood_Mid-Cambridge  \\\n",
       "11911                 0                           0   \n",
       "16481                 0                           0   \n",
       "33946                 0                           0   \n",
       "828                   0                           0   \n",
       "31134                 0                           0   \n",
       "...                 ...                         ...   \n",
       "41272                 0                           0   \n",
       "52602                 0                           0   \n",
       "48750                 0                           1   \n",
       "41027                 0                           0   \n",
       "52524                 0                           0   \n",
       "\n",
       "       Neighborhood_North Cambridge  Neighborhood_Peabody  \\\n",
       "11911                             0                     0   \n",
       "16481                             0                     0   \n",
       "33946                             0                     0   \n",
       "828                               0                     0   \n",
       "31134                             0                     0   \n",
       "...                             ...                   ...   \n",
       "41272                             0                     0   \n",
       "52602                             0                     0   \n",
       "48750                             0                     0   \n",
       "41027                             0                     0   \n",
       "52524                             0                     0   \n",
       "\n",
       "       Neighborhood_Riverside  Neighborhood_Strawberry Hill  \\\n",
       "11911                       0                             0   \n",
       "16481                       1                             0   \n",
       "33946                       0                             0   \n",
       "828                         0                             0   \n",
       "31134                       1                             0   \n",
       "...                       ...                           ...   \n",
       "41272                       0                             0   \n",
       "52602                       0                             0   \n",
       "48750                       0                             0   \n",
       "41027                       0                             0   \n",
       "52524                       0                             0   \n",
       "\n",
       "       Neighborhood_West Cambridge  \n",
       "11911                            0  \n",
       "16481                            0  \n",
       "33946                            0  \n",
       "828                              0  \n",
       "31134                            0  \n",
       "...                            ...  \n",
       "41272                            0  \n",
       "52602                            1  \n",
       "48750                            0  \n",
       "41027                            1  \n",
       "52524                            0  \n",
       "\n",
       "[5000 rows x 64 columns]"
      ]
     },
     "execution_count": 143,
     "metadata": {},
     "output_type": "execute_result"
    }
   ],
   "source": [
    "X=pd.get_dummies(X,prefix=None, prefix_sep='_', dummy_na=False, columns=None, sparse=False, drop_first=True, dtype=None)\n",
    "X"
   ]
  },
  {
   "cell_type": "code",
   "execution_count": 144,
   "id": "8b6ff854",
   "metadata": {},
   "outputs": [],
   "source": [
    "X_train, X_test= train_test_split(X,test_size=0.25, shuffle=True, random_state= 42)"
   ]
  },
  {
   "cell_type": "code",
   "execution_count": 145,
   "id": "634b6091",
   "metadata": {},
   "outputs": [],
   "source": [
    "# Estandariza de manera independiente el conjunto X_train y el conjunto X_test\n",
    "scaler = preprocessing.StandardScaler().fit(X_train)\n",
    "scaler_train=scaler.transform(X_train)\n",
    "scaler_test = scaler.transform(X_test)"
   ]
  },
  {
   "cell_type": "code",
   "execution_count": 146,
   "id": "1ff416ef",
   "metadata": {},
   "outputs": [],
   "source": [
    "pca = PCA() \n",
    "X_train_pca = pca.fit_transform(scaler_train)"
   ]
  },
  {
   "cell_type": "code",
   "execution_count": 147,
   "id": "d17f8103",
   "metadata": {},
   "outputs": [],
   "source": [
    "train_pc1_coords = X_train_pca[:, 0] \n",
    "train_pc2_coords = X_train_pca[:, 1]\n",
    "\n",
    "pca_train_scaled = preprocessing.scale(np.column_stack((train_pc1_coords, train_pc2_coords)))"
   ]
  },
  {
   "cell_type": "code",
   "execution_count": 148,
   "id": "5c847988",
   "metadata": {},
   "outputs": [
    {
     "data": {
      "text/plain": [
       "array([[ 1.55958889,  0.11390494],\n",
       "       [ 0.19038011, -0.54545916],\n",
       "       [-0.34475477, -0.88066046],\n",
       "       ...,\n",
       "       [ 1.26564571,  0.54207239],\n",
       "       [-1.52229156,  0.90057547],\n",
       "       [-1.52229156,  0.90057547]])"
      ]
     },
     "execution_count": 148,
     "metadata": {},
     "output_type": "execute_result"
    }
   ],
   "source": [
    "pca_train_scaled"
   ]
  },
  {
   "cell_type": "code",
   "execution_count": 149,
   "id": "cc6095e1",
   "metadata": {},
   "outputs": [],
   "source": [
    "train_pc1_coords = pca_train_scaled[:, 0] \n",
    "train_pc2_coords = pca_train_scaled[:, 1]"
   ]
  },
  {
   "cell_type": "code",
   "execution_count": 150,
   "id": "ac47a41c",
   "metadata": {},
   "outputs": [
    {
     "data": {
      "text/plain": [
       "<matplotlib.collections.PathCollection at 0x1760f726f10>"
      ]
     },
     "execution_count": 150,
     "metadata": {},
     "output_type": "execute_result"
    },
    {
     "data": {
      "image/png": "[encoded data removed]",
      "text/plain": [
       "<Figure size 432x288 with 1 Axes>"
      ]
     },
     "metadata": {
      "needs_background": "light"
     },
     "output_type": "display_data"
    }
   ],
   "source": [
    "plt.scatter(train_pc1_coords, train_pc2_coords)"
   ]
  },
  {
   "attachments": {},
   "cell_type": "markdown",
   "id": "4b741ddc",
   "metadata": {},
   "source": [
    "En el PCA se hace una reducción de dimensionalidad y no se realiza un agrupamiento, por esta razón no se pinta por colores diferentes sino un solo grupo.\n",
    "\n",
    "Sin embargo, a simple vista diria que hay tres grupos, el pequeño de la izquierda, el grande de la derecha y el punto solo que esta al margen del lado izquierdo."
   ]
  },
  {
   "attachments": {},
   "cell_type": "markdown",
   "id": "7ac63e9d",
   "metadata": {},
   "source": [
    "**Implementación de DBSCAN**"
   ]
  },
  {
   "cell_type": "code",
   "execution_count": 151,
   "id": "1c3c9fee",
   "metadata": {},
   "outputs": [
    {
     "data": {
      "text/plain": [
       "3"
      ]
     },
     "execution_count": 151,
     "metadata": {},
     "output_type": "execute_result"
    }
   ],
   "source": [
    "clustering = DBSCAN(eps=0.5, min_samples=2).fit(pca_train_scaled)\n",
    "labels= clustering.labels_\n",
    "max(labels)"
   ]
  },
  {
   "cell_type": "code",
   "execution_count": 152,
   "id": "34ee627a",
   "metadata": {},
   "outputs": [
    {
     "data": {
      "text/html": [
       "<style>#sk-container-id-8 {color: black;background-color: white;}#sk-container-id-8 pre{padding: 0;}#sk-container-id-8 div.sk-toggleable {background-color: white;}#sk-container-id-8 label.sk-toggleable__label {cursor: pointer;display: block;width: 100%;margin-bottom: 0;padding: 0.3em;box-sizing: border-box;text-align: center;}#sk-container-id-8 label.sk-toggleable__label-arrow:before {content: \"▸\";float: left;margin-right: 0.25em;color: #696969;}#sk-container-id-8 label.sk-toggleable__label-arrow:hover:before {color: black;}#sk-container-id-8 div.sk-estimator:hover label.sk-toggleable__label-arrow:before {color: black;}#sk-container-id-8 div.sk-toggleable__content {max-height: 0;max-width: 0;overflow: hidden;text-align: left;background-color: #f0f8ff;}#sk-container-id-8 div.sk-toggleable__content pre {margin: 0.2em;color: black;border-radius: 0.25em;background-color: #f0f8ff;}#sk-container-id-8 input.sk-toggleable__control:checked~div.sk-toggleable__content {max-height: 200px;max-width: 100%;overflow: auto;}#sk-container-id-8 input.sk-toggleable__control:checked~label.sk-toggleable__label-arrow:before {content: \"▾\";}#sk-container-id-8 div.sk-estimator input.sk-toggleable__control:checked~label.sk-toggleable__label {background-color: #d4ebff;}#sk-container-id-8 div.sk-label input.sk-toggleable__control:checked~label.sk-toggleable__label {background-color: #d4ebff;}#sk-container-id-8 input.sk-hidden--visually {border: 0;clip: rect(1px 1px 1px 1px);clip: rect(1px, 1px, 1px, 1px);height: 1px;margin: -1px;overflow: hidden;padding: 0;position: absolute;width: 1px;}#sk-container-id-8 div.sk-estimator {font-family: monospace;background-color: #f0f8ff;border: 1px dotted black;border-radius: 0.25em;box-sizing: border-box;margin-bottom: 0.5em;}#sk-container-id-8 div.sk-estimator:hover {background-color: #d4ebff;}#sk-container-id-8 div.sk-parallel-item::after {content: \"\";width: 100%;border-bottom: 1px solid gray;flex-grow: 1;}#sk-container-id-8 div.sk-label:hover label.sk-toggleable__label {background-color: #d4ebff;}#sk-container-id-8 div.sk-serial::before {content: \"\";position: absolute;border-left: 1px solid gray;box-sizing: border-box;top: 0;bottom: 0;left: 50%;z-index: 0;}#sk-container-id-8 div.sk-serial {display: flex;flex-direction: column;align-items: center;background-color: white;padding-right: 0.2em;padding-left: 0.2em;position: relative;}#sk-container-id-8 div.sk-item {position: relative;z-index: 1;}#sk-container-id-8 div.sk-parallel {display: flex;align-items: stretch;justify-content: center;background-color: white;position: relative;}#sk-container-id-8 div.sk-item::before, #sk-container-id-8 div.sk-parallel-item::before {content: \"\";position: absolute;border-left: 1px solid gray;box-sizing: border-box;top: 0;bottom: 0;left: 50%;z-index: -1;}#sk-container-id-8 div.sk-parallel-item {display: flex;flex-direction: column;z-index: 1;position: relative;background-color: white;}#sk-container-id-8 div.sk-parallel-item:first-child::after {align-self: flex-end;width: 50%;}#sk-container-id-8 div.sk-parallel-item:last-child::after {align-self: flex-start;width: 50%;}#sk-container-id-8 div.sk-parallel-item:only-child::after {width: 0;}#sk-container-id-8 div.sk-dashed-wrapped {border: 1px dashed gray;margin: 0 0.4em 0.5em 0.4em;box-sizing: border-box;padding-bottom: 0.4em;background-color: white;}#sk-container-id-8 div.sk-label label {font-family: monospace;font-weight: bold;display: inline-block;line-height: 1.2em;}#sk-container-id-8 div.sk-label-container {text-align: center;}#sk-container-id-8 div.sk-container {/* jupyter's `normalize.less` sets `[hidden] { display: none; }` but bootstrap.min.css set `[hidden] { display: none !important; }` so we also need the `!important` here to be able to override the default hidden behavior on the sphinx rendered scikit-learn.org. See: https://github.com/scikit-learn/scikit-learn/issues/21755 */display: inline-block !important;position: relative;}#sk-container-id-8 div.sk-text-repr-fallback {display: none;}</style><div id=\"sk-container-id-8\" class=\"sk-top-container\"><div class=\"sk-text-repr-fallback\"><pre>DBSCAN(min_samples=2)</pre><b>In a Jupyter environment, please rerun this cell to show the HTML representation or trust the notebook. <br />On GitHub, the HTML representation is unable to render, please try loading this page with nbviewer.org.</b></div><div class=\"sk-container\" hidden><div class=\"sk-item\"><div class=\"sk-estimator sk-toggleable\"><input class=\"sk-toggleable__control sk-hidden--visually\" id=\"sk-estimator-id-8\" type=\"checkbox\" checked><label for=\"sk-estimator-id-8\" class=\"sk-toggleable__label sk-toggleable__label-arrow\">DBSCAN</label><div class=\"sk-toggleable__content\"><pre>DBSCAN(min_samples=2)</pre></div></div></div></div></div>"
      ],
      "text/plain": [
       "DBSCAN(min_samples=2)"
      ]
     },
     "execution_count": 152,
     "metadata": {},
     "output_type": "execute_result"
    }
   ],
   "source": [
    "clustering"
   ]
  },
  {
   "cell_type": "code",
   "execution_count": 153,
   "id": "c25bd5cb",
   "metadata": {},
   "outputs": [
    {
     "data": {
      "text/plain": [
       "<matplotlib.collections.PathCollection at 0x1760cf081c0>"
      ]
     },
     "execution_count": 153,
     "metadata": {},
     "output_type": "execute_result"
    },
    {
     "data": {
      "image/png": "[encoded data removed]",
      "text/plain": [
       "<Figure size 432x288 with 1 Axes>"
      ]
     },
     "metadata": {
      "needs_background": "light"
     },
     "output_type": "display_data"
    }
   ],
   "source": [
    "plt.scatter(train_pc1_coords, train_pc2_coords, c=labels )"
   ]
  },
  {
   "attachments": {},
   "cell_type": "markdown",
   "id": "08d9db02",
   "metadata": {},
   "source": [
    "Si epsilon es menor a 1, depende de que valor es epsilon, entre mas pequeño sea epsilon habra una mayor cantidad de agrupaciones, por ejemplos con epsilon=0.3 se tienen 18 agrupaciones, pero si epsilon es 0.5 hay 4 agrupaciones (dado se cuenta desde 0).\n",
    "El clustering optimo sería separar el grupo pequeño del lado izquierdo del grande del derecho sin embargo en 0.3 lo separa pero son muchas agrupaciones, por lo tanto, pienso que elparametro de agrupación optimo esta en epsilon=0.5 y min_samples=2.\n"
   ]
  },
  {
   "attachments": {},
   "cell_type": "markdown",
   "id": "cfd9e39e",
   "metadata": {},
   "source": [
    "**Implementación KMeans**"
   ]
  },
  {
   "cell_type": "code",
   "execution_count": 154,
   "id": "26b0905f",
   "metadata": {},
   "outputs": [
    {
     "data": {
      "image/png": "[encoded data removed]",
      "text/plain": [
       "<Figure size 432x288 with 1 Axes>"
      ]
     },
     "metadata": {
      "needs_background": "light"
     },
     "output_type": "display_data"
    }
   ],
   "source": [
    "Nc = range(1, 20)\n",
    "kmeans = [KMeans(n_clusters=i) for i in Nc]\n",
    "kmeans\n",
    "score = [kmeans[i].fit(pca_train_scaled).score(pca_train_scaled) for i in range(len(kmeans))]\n",
    "score\n",
    "plt.plot(Nc,score)\n",
    "plt.xlabel('Number of Clusters')\n",
    "plt.ylabel('Score')\n",
    "plt.title('Elbow Curve')\n",
    "plt.show()"
   ]
  },
  {
   "attachments": {},
   "cell_type": "markdown",
   "id": "65a6cf29",
   "metadata": {},
   "source": [
    "El valor de k seria *k=3*"
   ]
  },
  {
   "cell_type": "code",
   "execution_count": 155,
   "id": "56976c1a",
   "metadata": {},
   "outputs": [
    {
     "data": {
      "text/plain": [
       "array([0, 1, 1, ..., 0, 2, 2])"
      ]
     },
     "execution_count": 155,
     "metadata": {},
     "output_type": "execute_result"
    }
   ],
   "source": [
    "kmeans = KMeans(n_clusters=3, random_state=0).fit(pca_train_scaled)\n",
    "labels_kmeans= kmeans.labels_\n",
    "labels_kmeans"
   ]
  },
  {
   "cell_type": "code",
   "execution_count": 156,
   "id": "41912925",
   "metadata": {},
   "outputs": [
    {
     "data": {
      "text/plain": [
       "array([[ 1.25130012,  0.6810327 ],\n",
       "       [-0.18302968, -0.67317695],\n",
       "       [-1.51091358,  1.34779341]])"
      ]
     },
     "execution_count": 156,
     "metadata": {},
     "output_type": "execute_result"
    }
   ],
   "source": [
    "kmeans.cluster_centers_"
   ]
  },
  {
   "cell_type": "code",
   "execution_count": 157,
   "id": "7918096d",
   "metadata": {},
   "outputs": [
    {
     "data": {
      "text/plain": [
       "<matplotlib.collections.PathCollection at 0x1760ccb8640>"
      ]
     },
     "execution_count": 157,
     "metadata": {},
     "output_type": "execute_result"
    },
    {
     "data": {
      "image/png": "[encoded data removed]",
      "text/plain": [
       "<Figure size 432x288 with 1 Axes>"
      ]
     },
     "metadata": {
      "needs_background": "light"
     },
     "output_type": "display_data"
    }
   ],
   "source": [
    "plt.scatter(train_pc1_coords, train_pc2_coords, c=labels_kmeans)"
   ]
  },
  {
   "attachments": {},
   "cell_type": "markdown",
   "id": "bbdb2f86",
   "metadata": {},
   "source": [
    "Se puede observar cmo en k-means luego de hallar el k optimo se observan las tres agrupaciones."
   ]
  },
  {
   "attachments": {},
   "cell_type": "markdown",
   "id": "616bb919",
   "metadata": {},
   "source": [
    "**Voy a implementar el algoritmo aglomerativo SpectralClustering:**"
   ]
  },
  {
   "cell_type": "code",
   "execution_count": 158,
   "id": "e91310f7",
   "metadata": {},
   "outputs": [],
   "source": [
    "clustering = SpectralClustering(n_clusters=3, assign_labels='discretize', random_state=0).fit(pca_train_scaled)\n",
    "labels_c = clustering.labels_"
   ]
  },
  {
   "cell_type": "code",
   "execution_count": 159,
   "id": "7d92795b",
   "metadata": {},
   "outputs": [
    {
     "data": {
      "text/plain": [
       "<matplotlib.collections.PathCollection at 0x1760cd0e0a0>"
      ]
     },
     "execution_count": 159,
     "metadata": {},
     "output_type": "execute_result"
    },
    {
     "data": {
      "image/png": "[encoded data removed]",
      "text/plain": [
       "<Figure size 432x288 with 1 Axes>"
      ]
     },
     "metadata": {
      "needs_background": "light"
     },
     "output_type": "display_data"
    }
   ],
   "source": [
    "plt.scatter(train_pc1_coords, train_pc2_coords, c=labels_c)"
   ]
  },
  {
   "attachments": {},
   "cell_type": "markdown",
   "id": "8b7b9ec2",
   "metadata": {},
   "source": [
    "**CONCLUSIONES**\n",
    "-Se observa como el algoritmo SpectralClustering es muy parecido a Kmeans, luego observamos DBSCAN y este algoritmo nos da una grafica muy diferente de agrupación y no hace una buena agrupación tanto como los otros dos algoritmos. Para los tres casos se tuvo en cuenta el mismo valor de pca_train_scaled. Es dificil determinar entre Kmeans y SpectralClustering cual es el mejor algoritmo aglomerativo porque para este ejercicio las graficas son muy similares sin embargo, indigando sobre el tema, sabemos que el algoritmo SpectralClustering es mejor que Kmeans (adicionalmente, el ejercicio entre estos algoritmos se realizo bajo un mismo número de clusters)."
   ]
  }
 ],
 "metadata": {
  "kernelspec": {
   "display_name": "Python 3.9.10 64-bit",
   "language": "python",
   "name": "python3"
  },
  "language_info": {
   "codemirror_mode": {
    "name": "ipython",
    "version": 3
   },
   "file_extension": ".py",
   "mimetype": "text/x-python",
   "name": "python",
   "nbconvert_exporter": "python",
   "pygments_lexer": "ipython3",
   "version": "3.9.10"
  },
  "vscode": {
   "interpreter": {
    "hash": "a150716164569798468a1eaa031fb2bd1c5363a0c0d9d75c933ba80c06efdad2"
   }
  }
 },
 "nbformat": 4,
 "nbformat_minor": 5
}
